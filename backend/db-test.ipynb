{
 "cells": [
  {
   "cell_type": "code",
   "execution_count": 2,
   "metadata": {},
   "outputs": [],
   "source": [
    "from sqlalchemy import create_engine\n",
    "import json"
   ]
  },
  {
   "cell_type": "code",
   "execution_count": 3,
   "metadata": {},
   "outputs": [],
   "source": [
    "def connect():\n",
    "    \n",
    "    with open(\"./db_config.json\", \"rt\") as file:\n",
    "        config = json.load(file)\n",
    "        conn_str = conn_str = 'mssql+pyodbc:///?odbc_connect={}'.format(config[\"conn\"].format(**config))\n",
    "\n",
    "    engine = create_engine(conn_str)\n",
    "\n",
    "    return engine"
   ]
  },
  {
   "cell_type": "code",
   "execution_count": 4,
   "metadata": {},
   "outputs": [],
   "source": [
    "engine = connect()"
   ]
  },
  {
   "cell_type": "code",
   "execution_count": 9,
   "metadata": {},
   "outputs": [
    {
     "data": {
      "text/plain": [
       "[('test', 'test', 'test@test.dk', '9c0799aa237c1c9577a4d39351d8c05ed54ee2566c6a315a8f34614d5ca930da6ed626a26f1e5688db56e418352094633fca24013a42a57736f58b8c4b15ab79', '12345678')]"
      ]
     },
     "execution_count": 9,
     "metadata": {},
     "output_type": "execute_result"
    }
   ],
   "source": [
    "engine.execute(\"SELECT [firstname], [lastname], [email], [password], [phone] FROM users WHERE [email] = 'test@test.dk' and [password] = '9c0799aa237c1c9577a4d39351d8c05ed54ee2566c6a315a8f34614d5ca930da6ed626a26f1e5688db56e418352094633fca24013a42a57736f58b8c4b15ab79'\").all()"
   ]
  },
  {
   "cell_type": "code",
   "execution_count": null,
   "metadata": {},
   "outputs": [],
   "source": []
  }
 ],
 "metadata": {
  "kernelspec": {
   "display_name": "Python 3",
   "language": "python",
   "name": "python3"
  },
  "language_info": {
   "codemirror_mode": {
    "name": "ipython",
    "version": 3
   },
   "file_extension": ".py",
   "mimetype": "text/x-python",
   "name": "python",
   "nbconvert_exporter": "python",
   "pygments_lexer": "ipython3",
   "version": "3.10.4"
  },
  "orig_nbformat": 4,
  "vscode": {
   "interpreter": {
    "hash": "7bd97ddf934c62eb53e45b27728dd5c1c7116d37bcca029015996c339ea10a61"
   }
  }
 },
 "nbformat": 4,
 "nbformat_minor": 2
}
