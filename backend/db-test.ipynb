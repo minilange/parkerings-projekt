{
 "cells": [
  {
   "cell_type": "code",
   "execution_count": 2,
   "metadata": {},
   "outputs": [],
   "source": [
    "from sqlalchemy import create_engine\n",
    "import json"
   ]
  },
  {
   "cell_type": "code",
   "execution_count": 3,
   "metadata": {},
   "outputs": [],
   "source": [
    "def connect():\n",
    "    \n",
    "    with open(\"./db_config.json\", \"rt\") as file:\n",
    "        config = json.load(file)\n",
    "        conn_str = conn_str = 'mssql+pyodbc:///?odbc_connect={}'.format(config[\"conn\"].format(**config))\n",
    "\n",
    "    engine = create_engine(conn_str)\n",
    "\n",
    "    return engine"
   ]
  },
  {
   "cell_type": "code",
   "execution_count": 4,
   "metadata": {},
   "outputs": [],
   "source": [
    "engine = connect()"
   ]
  },
  {
   "cell_type": "code",
   "execution_count": 9,
   "metadata": {},
   "outputs": [
    {
     "data": {
      "text/plain": [
       "[('test', 'test', 'test@test.dk', '9c0799aa237c1c9577a4d39351d8c05ed54ee2566c6a315a8f34614d5ca930da6ed626a26f1e5688db56e418352094633fca24013a42a57736f58b8c4b15ab79', '12345678')]"
      ]
     },
     "execution_count": 9,
     "metadata": {},
     "output_type": "execute_result"
    }
   ],
   "source": [
    "engine.execute(\"SELECT [firstname], [lastname], [email], [password], [phone] FROM users WHERE [email] = 'test@test.dk' and [password] = '9c0799aa237c1c9577a4d39351d8c05ed54ee2566c6a315a8f34614d5ca930da6ed626a26f1e5688db56e418352094633fca24013a42a57736f58b8c4b15ab79'\").all()"
   ]
  },
  {
   "cell_type": "code",
   "execution_count": 3,
   "metadata": {},
   "outputs": [
    {
     "ename": "TypeError",
     "evalue": "any() takes exactly one argument (2 given)",
     "output_type": "error",
     "traceback": [
      "\u001b[1;31m---------------------------------------------------------------------------\u001b[0m",
      "\u001b[1;31mTypeError\u001b[0m                                 Traceback (most recent call last)",
      "\u001b[1;32mc:\\Code fun\\parkerings-projekt\\backend\\db-test.ipynb Cell 5\u001b[0m in \u001b[0;36m<cell line: 1>\u001b[1;34m()\u001b[0m\n\u001b[1;32m----> <a href='vscode-notebook-cell:/c%3A/Code%20fun/parkerings-projekt/backend/db-test.ipynb#X10sZmlsZQ%3D%3D?line=0'>1</a>\u001b[0m \u001b[39many\u001b[39;49m([\u001b[39m\"\u001b[39;49m\u001b[39malter\u001b[39;49m\u001b[39m\"\u001b[39;49m], \u001b[39m\"\u001b[39;49m\u001b[39malter\u001b[39;49m\u001b[39m\"\u001b[39;49m)\n",
      "\u001b[1;31mTypeError\u001b[0m: any() takes exactly one argument (2 given)"
     ]
    }
   ],
   "source": [
    "any([\"alter\"])"
   ]
  },
  {
   "cell_type": "code",
   "execution_count": 14,
   "metadata": {},
   "outputs": [],
   "source": [
    "from datetime import datetime\n",
    "\n",
    "def is_convertable(key: str, val: str, data_type: type):\n",
    "    \"\"\"\n",
    "        Takes two arguments and checks if the selected value is convertable to the selected type\n",
    "\n",
    "        Args:\n",
    "            key: (str) a specific key that is checked for\n",
    "            val: (any) a specific value to check for\n",
    "            type: (any) a specific type to check for\n",
    "\n",
    "        Returns:\n",
    "            bool: Whether or not the value is convertable\n",
    "    \"\"\"\n",
    "    try:\n",
    "        if key in [\"phone\", \"ccCode\"]:\n",
    "            return False\n",
    "\n",
    "        if callable(data_type):\n",
    "            format_datetime(val)\n",
    "\n",
    "        data_type(val)\n",
    "        return True\n",
    "    except ValueError:\n",
    "        return False\n",
    "\n",
    "\n",
    "def format_datetime(datetime: datetime):\n",
    "    \"\"\"\n",
    "        Converts a datetime object to a string\n",
    "\n",
    "        Args:\n",
    "            datetime (Datetime): A timestamp\n",
    "\n",
    "        Returns:\n",
    "            str: Timestamp as a string\n",
    "    \"\"\"\n",
    "    return datetime.strftime(\"%Y-%m-%dT%H:%M:%SZ\")\n"
   ]
  },
  {
   "cell_type": "code",
   "execution_count": 15,
   "metadata": {},
   "outputs": [
    {
     "ename": "NameError",
     "evalue": "name 'function' is not defined",
     "output_type": "error",
     "traceback": [
      "\u001b[1;31m---------------------------------------------------------------------------\u001b[0m",
      "\u001b[1;31mNameError\u001b[0m                                 Traceback (most recent call last)",
      "\u001b[1;32mc:\\Code fun\\parkerings-projekt\\backend\\db-test.ipynb Cell 7\u001b[0m in \u001b[0;36m<cell line: 4>\u001b[1;34m()\u001b[0m\n\u001b[0;32m      <a href='vscode-notebook-cell:/c%3A/Code%20fun/parkerings-projekt/backend/db-test.ipynb#X13sZmlsZQ%3D%3D?line=0'>1</a>\u001b[0m \u001b[39mdef\u001b[39;00m \u001b[39mtest\u001b[39m():\n\u001b[0;32m      <a href='vscode-notebook-cell:/c%3A/Code%20fun/parkerings-projekt/backend/db-test.ipynb#X13sZmlsZQ%3D%3D?line=1'>2</a>\u001b[0m     \u001b[39mreturn\u001b[39;00m\n\u001b[1;32m----> <a href='vscode-notebook-cell:/c%3A/Code%20fun/parkerings-projekt/backend/db-test.ipynb#X13sZmlsZQ%3D%3D?line=3'>4</a>\u001b[0m is_convertable(\u001b[39m\"\u001b[39;49m\u001b[39mkey\u001b[39;49m\u001b[39m\"\u001b[39;49m, \u001b[39m\"\u001b[39;49m\u001b[39mval\u001b[39;49m\u001b[39m\"\u001b[39;49m, test)\n",
      "\u001b[1;32mc:\\Code fun\\parkerings-projekt\\backend\\db-test.ipynb Cell 7\u001b[0m in \u001b[0;36mis_convertable\u001b[1;34m(key, val, data_type)\u001b[0m\n\u001b[0;32m     <a href='vscode-notebook-cell:/c%3A/Code%20fun/parkerings-projekt/backend/db-test.ipynb#X13sZmlsZQ%3D%3D?line=15'>16</a>\u001b[0m \u001b[39mif\u001b[39;00m key \u001b[39min\u001b[39;00m [\u001b[39m\"\u001b[39m\u001b[39mphone\u001b[39m\u001b[39m\"\u001b[39m, \u001b[39m\"\u001b[39m\u001b[39mccCode\u001b[39m\u001b[39m\"\u001b[39m]:\n\u001b[0;32m     <a href='vscode-notebook-cell:/c%3A/Code%20fun/parkerings-projekt/backend/db-test.ipynb#X13sZmlsZQ%3D%3D?line=16'>17</a>\u001b[0m     \u001b[39mreturn\u001b[39;00m \u001b[39mFalse\u001b[39;00m\n\u001b[1;32m---> <a href='vscode-notebook-cell:/c%3A/Code%20fun/parkerings-projekt/backend/db-test.ipynb#X13sZmlsZQ%3D%3D?line=18'>19</a>\u001b[0m \u001b[39mif\u001b[39;00m data_type \u001b[39m==\u001b[39m function:\n\u001b[0;32m     <a href='vscode-notebook-cell:/c%3A/Code%20fun/parkerings-projekt/backend/db-test.ipynb#X13sZmlsZQ%3D%3D?line=19'>20</a>\u001b[0m     format_datetime(val)\n\u001b[0;32m     <a href='vscode-notebook-cell:/c%3A/Code%20fun/parkerings-projekt/backend/db-test.ipynb#X13sZmlsZQ%3D%3D?line=21'>22</a>\u001b[0m data_type(val)\n",
      "\u001b[1;31mNameError\u001b[0m: name 'function' is not defined"
     ]
    }
   ],
   "source": [
    "def test():\n",
    "    return\n",
    "    \n",
    "is_convertable(\"key\", \"val\", test)"
   ]
  },
  {
   "cell_type": "code",
   "execution_count": null,
   "metadata": {},
   "outputs": [],
   "source": []
  }
 ],
 "metadata": {
  "kernelspec": {
   "display_name": "Python 3",
   "language": "python",
   "name": "python3"
  },
  "language_info": {
   "codemirror_mode": {
    "name": "ipython",
    "version": 3
   },
   "file_extension": ".py",
   "mimetype": "text/x-python",
   "name": "python",
   "nbconvert_exporter": "python",
   "pygments_lexer": "ipython3",
   "version": "3.10.4"
  },
  "orig_nbformat": 4,
  "vscode": {
   "interpreter": {
    "hash": "7bd97ddf934c62eb53e45b27728dd5c1c7116d37bcca029015996c339ea10a61"
   }
  }
 },
 "nbformat": 4,
 "nbformat_minor": 2
}
